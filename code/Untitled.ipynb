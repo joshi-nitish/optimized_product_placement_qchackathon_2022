{
 "cells": [
  {
   "cell_type": "code",
   "execution_count": 1,
   "id": "16eb86f4-8f40-4155-971b-efee0df81e77",
   "metadata": {},
   "outputs": [],
   "source": [
    "import sys\n",
    "sys.path.append('./')\n",
    "import layout\n",
    "import utils\n",
    "\n",
    "import numpy as np\n",
    "import pandas as pd\n",
    "import random"
   ]
  },
  {
   "cell_type": "code",
   "execution_count": 2,
   "id": "07c5ff4f-b581-446f-b75c-d98b55871cb2",
   "metadata": {},
   "outputs": [],
   "source": [
    "items_df = pd.read_csv('../artifacts/top_100_sku.csv')\n",
    "items_ordered_list = items_df['sku'].values.tolist()\n",
    "set_items = set(items_df['sku'].values.tolist())"
   ]
  },
  {
   "cell_type": "code",
   "execution_count": 3,
   "id": "d56a9dd8-2db3-4e84-b024-f65a277feb5a",
   "metadata": {},
   "outputs": [
    {
     "data": {
      "text/plain": [
       "100"
      ]
     },
     "execution_count": 3,
     "metadata": {},
     "output_type": "execute_result"
    }
   ],
   "source": [
    "len(set_items)"
   ]
  },
  {
   "cell_type": "code",
   "execution_count": 4,
   "id": "5aa4eeb3-936d-46f9-88e8-b0fdb7aeb36b",
   "metadata": {},
   "outputs": [],
   "source": [
    "top_25_items_list = pd.read_csv('../artifacts/top_items_together.txt')['sku'].tolist()\n",
    "top_25_items_set = set(top_25_items_list)"
   ]
  },
  {
   "cell_type": "code",
   "execution_count": 5,
   "id": "8c95581a-1b7c-4758-a59d-c79dd17a34cc",
   "metadata": {},
   "outputs": [
    {
     "data": {
      "text/plain": [
       "25"
      ]
     },
     "execution_count": 5,
     "metadata": {},
     "output_type": "execute_result"
    }
   ],
   "source": [
    "len(top_25_items_set)"
   ]
  },
  {
   "cell_type": "code",
   "execution_count": 6,
   "id": "01fa0557-4648-461a-b706-120ba155ae1c",
   "metadata": {},
   "outputs": [
    {
     "data": {
      "text/plain": [
       "{901059, 901060, 901061, 901067, 901068, 901069, 902438, 911091, 911092}"
      ]
     },
     "execution_count": 6,
     "metadata": {},
     "output_type": "execute_result"
    }
   ],
   "source": [
    "top_25_items_set - set_items"
   ]
  },
  {
   "cell_type": "code",
   "execution_count": 7,
   "id": "8d0525fd-b48f-47c0-83ff-e27bd633722b",
   "metadata": {},
   "outputs": [],
   "source": [
    "together_sku_set = top_25_items_set.intersection(set_items)"
   ]
  },
  {
   "cell_type": "code",
   "execution_count": 8,
   "id": "4a8f1f21-bf4b-4720-9236-26d13f64b93d",
   "metadata": {},
   "outputs": [
    {
     "data": {
      "text/plain": [
       "100"
      ]
     },
     "execution_count": 8,
     "metadata": {},
     "output_type": "execute_result"
    }
   ],
   "source": [
    "ordered_list = list(together_sku_set) + list(set_items-together_sku_set)\n",
    "len(ordered_list)"
   ]
  },
  {
   "cell_type": "code",
   "execution_count": 9,
   "id": "ecc30455-0a2e-462c-8085-a5d4492dc0a2",
   "metadata": {},
   "outputs": [],
   "source": [
    "random_obj = layout.layout('../layout_files/row_layout_100.txt')\n",
    "order_obj = layout.layout('../layout_files/row_layout_100.txt')\n",
    "utils.randomly_assign_products_to_racks(order_obj, ordered_list)\n",
    "random.shuffle(ordered_list)\n",
    "utils.randomly_assign_products_to_racks(random_obj, ordered_list)"
   ]
  },
  {
   "cell_type": "code",
   "execution_count": 10,
   "id": "8eacbdce-9914-43c3-b292-290fb6cd63a9",
   "metadata": {},
   "outputs": [],
   "source": [
    "orders_df = pd.read_csv('../artifacts/order_2m_fixed.csv')"
   ]
  },
  {
   "cell_type": "code",
   "execution_count": 11,
   "id": "10ef13c3-64c2-44ed-a707-7bc4466b5d62",
   "metadata": {},
   "outputs": [],
   "source": [
    "def func(row):\n",
    "    split_row = row.split(',')\n",
    "    split_row = [int(i) for i in split_row if i.isdigit()]\n",
    "    return len(set(split_row)-set_items)\n",
    "orders_df['len_other_skus'] = orders_df['sku'].apply(func)"
   ]
  },
  {
   "cell_type": "code",
   "execution_count": 12,
   "id": "fde16a59-7dd6-4ce6-9c52-701835f20e96",
   "metadata": {},
   "outputs": [
    {
     "data": {
      "text/html": [
       "<div>\n",
       "<style scoped>\n",
       "    .dataframe tbody tr th:only-of-type {\n",
       "        vertical-align: middle;\n",
       "    }\n",
       "\n",
       "    .dataframe tbody tr th {\n",
       "        vertical-align: top;\n",
       "    }\n",
       "\n",
       "    .dataframe thead th {\n",
       "        text-align: right;\n",
       "    }\n",
       "</style>\n",
       "<table border=\"1\" class=\"dataframe\">\n",
       "  <thead>\n",
       "    <tr style=\"text-align: right;\">\n",
       "      <th></th>\n",
       "      <th>order_id</th>\n",
       "      <th>local_date</th>\n",
       "      <th>sku</th>\n",
       "      <th>sku_count</th>\n",
       "      <th>sku_id_count</th>\n",
       "      <th>len_other_skus</th>\n",
       "    </tr>\n",
       "  </thead>\n",
       "  <tbody>\n",
       "    <tr>\n",
       "      <th>0</th>\n",
       "      <td>807636508</td>\n",
       "      <td>2022-07-01</td>\n",
       "      <td>905851,901870,902459,902405,906075,912870,902450</td>\n",
       "      <td>7</td>\n",
       "      <td>7</td>\n",
       "      <td>4</td>\n",
       "    </tr>\n",
       "    <tr>\n",
       "      <th>1</th>\n",
       "      <td>806634633</td>\n",
       "      <td>2022-07-01</td>\n",
       "      <td>900955,903142,903141,901839,903131,913044,9011...</td>\n",
       "      <td>9</td>\n",
       "      <td>9</td>\n",
       "      <td>8</td>\n",
       "    </tr>\n",
       "    <tr>\n",
       "      <th>2</th>\n",
       "      <td>806728678</td>\n",
       "      <td>2022-07-01</td>\n",
       "      <td>900350,900351,915650,902129,916994,900510,9003...</td>\n",
       "      <td>9</td>\n",
       "      <td>9</td>\n",
       "      <td>6</td>\n",
       "    </tr>\n",
       "    <tr>\n",
       "      <th>3</th>\n",
       "      <td>807114392</td>\n",
       "      <td>2022-07-01</td>\n",
       "      <td>916174</td>\n",
       "      <td>1</td>\n",
       "      <td>1</td>\n",
       "      <td>1</td>\n",
       "    </tr>\n",
       "    <tr>\n",
       "      <th>4</th>\n",
       "      <td>806755515</td>\n",
       "      <td>2022-07-01</td>\n",
       "      <td>901078</td>\n",
       "      <td>1</td>\n",
       "      <td>1</td>\n",
       "      <td>1</td>\n",
       "    </tr>\n",
       "  </tbody>\n",
       "</table>\n",
       "</div>"
      ],
      "text/plain": [
       "    order_id  local_date                                                sku  \\\n",
       "0  807636508  2022-07-01   905851,901870,902459,902405,906075,912870,902450   \n",
       "1  806634633  2022-07-01  900955,903142,903141,901839,903131,913044,9011...   \n",
       "2  806728678  2022-07-01  900350,900351,915650,902129,916994,900510,9003...   \n",
       "3  807114392  2022-07-01                                             916174   \n",
       "4  806755515  2022-07-01                                             901078   \n",
       "\n",
       "   sku_count  sku_id_count  len_other_skus  \n",
       "0          7             7               4  \n",
       "1          9             9               8  \n",
       "2          9             9               6  \n",
       "3          1             1               1  \n",
       "4          1             1               1  "
      ]
     },
     "execution_count": 12,
     "metadata": {},
     "output_type": "execute_result"
    }
   ],
   "source": [
    "orders_df.head()"
   ]
  },
  {
   "cell_type": "code",
   "execution_count": 13,
   "id": "73d81318-6706-4987-8ad9-c6e5ecb60963",
   "metadata": {},
   "outputs": [
    {
     "data": {
      "text/plain": [
       "(11408, 6)"
      ]
     },
     "execution_count": 13,
     "metadata": {},
     "output_type": "execute_result"
    }
   ],
   "source": [
    "orders_df[orders_df['len_other_skus'] == 1].shape"
   ]
  },
  {
   "cell_type": "code",
   "execution_count": 14,
   "id": "f5deb6c3-3f7c-4bb0-9183-860533019c8b",
   "metadata": {
    "tags": []
   },
   "outputs": [],
   "source": [
    "def new_func(row):\n",
    "    split_row = row.split(',')\n",
    "    split_row = [int(i) for i in split_row if i.isdigit()]\n",
    "    return ','.join(list(str(i) for i in set(split_row).intersection(set_items)))\n",
    "orders_df['new_skus'] = orders_df['sku'].apply(new_func)"
   ]
  },
  {
   "cell_type": "code",
   "execution_count": 15,
   "id": "e8ef54b4-b08b-4f48-9640-18e122b1c506",
   "metadata": {},
   "outputs": [],
   "source": [
    "orders_df['new_sku_len'] = orders_df['new_skus'].apply(lambda x: len(x.split(',')))"
   ]
  },
  {
   "cell_type": "code",
   "execution_count": 16,
   "id": "4ac56bd7-5762-4df1-8348-cceb74c3c361",
   "metadata": {},
   "outputs": [
    {
     "data": {
      "text/plain": [
       "(69417, 8)"
      ]
     },
     "execution_count": 16,
     "metadata": {},
     "output_type": "execute_result"
    }
   ],
   "source": [
    "orders_df.shape"
   ]
  },
  {
   "cell_type": "code",
   "execution_count": 17,
   "id": "1d8907c1-b8dc-4e92-a5a2-744fe4910e7e",
   "metadata": {},
   "outputs": [
    {
     "data": {
      "text/plain": [
       "(26724, 8)"
      ]
     },
     "execution_count": 17,
     "metadata": {},
     "output_type": "execute_result"
    }
   ],
   "source": [
    "orders_df[orders_df['new_sku_len']>=2].shape"
   ]
  },
  {
   "cell_type": "code",
   "execution_count": 32,
   "id": "91079609-f9f1-490b-ae0d-4abeddc2b504",
   "metadata": {},
   "outputs": [],
   "source": [
    "order_list = []\n",
    "for _, row in orders_df[orders_df['new_sku_len']>=2].sample(n=1000).iterrows():\n",
    "    order_list.append(row['new_skus'].split(','))\n",
    "len_list = [len(l) for l in order_list]"
   ]
  },
  {
   "cell_type": "code",
   "execution_count": 33,
   "id": "8d67946b-8c11-4f11-9a14-e3fafd20516a",
   "metadata": {},
   "outputs": [
    {
     "name": "stdout",
     "output_type": "stream",
     "text": [
      "avg order len = 3.464\n",
      "std order len = 1.9418300646555042\n"
     ]
    }
   ],
   "source": [
    "print('avg order len =',np.mean(len_list))\n",
    "print('std order len =',np.std(len_list))"
   ]
  },
  {
   "cell_type": "code",
   "execution_count": 34,
   "id": "0b939ac8-82ad-43c9-b108-3c654ca6e582",
   "metadata": {},
   "outputs": [],
   "source": [
    "order_list = [[int(i) for i in l] for l in order_list]"
   ]
  },
  {
   "cell_type": "code",
   "execution_count": 40,
   "id": "f80013f4-3033-4dba-8bbc-7283d26fb4de",
   "metadata": {},
   "outputs": [],
   "source": [
    "# calculating distance for order_obj\n",
    "distance_list = []\n",
    "for order in order_list:\n",
    "    distance_list.append(utils.calc_distance(order_obj, (0,0), order))"
   ]
  },
  {
   "cell_type": "code",
   "execution_count": 41,
   "id": "a27f4c71-b12a-489f-a725-02e1dc0493dd",
   "metadata": {},
   "outputs": [
    {
     "name": "stdout",
     "output_type": "stream",
     "text": [
      "avg order distance = 40.438\n",
      "std order  = 23.395088287929156\n",
      "median order  = 34.0\n"
     ]
    }
   ],
   "source": [
    "print('avg order distance =',np.mean(distance_list))\n",
    "print('std order  =',np.std(distance_list))\n",
    "print('median order  =',np.median(distance_list))"
   ]
  },
  {
   "cell_type": "code",
   "execution_count": 42,
   "id": "8f205feb-139e-4574-be20-fb140460eb09",
   "metadata": {},
   "outputs": [],
   "source": [
    "# calculating distance for random_obj\n",
    "distance_list = []\n",
    "for order in order_list:\n",
    "    distance_list.append(utils.calc_distance(random_obj, (0,0), order))"
   ]
  },
  {
   "cell_type": "code",
   "execution_count": 43,
   "id": "a4c905c1-2e94-4141-8267-8976f3e5ae14",
   "metadata": {},
   "outputs": [
    {
     "name": "stdout",
     "output_type": "stream",
     "text": [
      "avg random distance = 44.332\n",
      "std order  = 25.3484866609429\n",
      "median order  = 37.0\n"
     ]
    }
   ],
   "source": [
    "print('avg random distance =',np.mean(distance_list))\n",
    "print('std order  =',np.std(distance_list))\n",
    "print('median order  =',np.median(distance_list))"
   ]
  },
  {
   "cell_type": "code",
   "execution_count": null,
   "id": "5fbd6a90-53e9-4a83-8453-be29cc0def4c",
   "metadata": {},
   "outputs": [],
   "source": []
  }
 ],
 "metadata": {
  "kernelspec": {
   "display_name": "Python 3 (ipykernel)",
   "language": "python",
   "name": "python3"
  },
  "language_info": {
   "codemirror_mode": {
    "name": "ipython",
    "version": 3
   },
   "file_extension": ".py",
   "mimetype": "text/x-python",
   "name": "python",
   "nbconvert_exporter": "python",
   "pygments_lexer": "ipython3",
   "version": "3.8.9"
  }
 },
 "nbformat": 4,
 "nbformat_minor": 5
}
